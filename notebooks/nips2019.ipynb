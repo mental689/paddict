{
 "cells": [
  {
   "cell_type": "code",
   "execution_count": 1,
   "metadata": {},
   "outputs": [],
   "source": [
    "import pandas as pd\n",
    "from tqdm import tqdm\n",
    "import arxiv\n",
    "import numpy as np\n",
    "from datetime import datetime"
   ]
  },
  {
   "cell_type": "code",
   "execution_count": 2,
   "metadata": {},
   "outputs": [],
   "source": [
    "df = pd.read_csv(\"nips2019.csv\")"
   ]
  },
  {
   "cell_type": "code",
   "execution_count": 3,
   "metadata": {},
   "outputs": [
    {
     "data": {
      "text/html": [
       "<div>\n",
       "<style scoped>\n",
       "    .dataframe tbody tr th:only-of-type {\n",
       "        vertical-align: middle;\n",
       "    }\n",
       "\n",
       "    .dataframe tbody tr th {\n",
       "        vertical-align: top;\n",
       "    }\n",
       "\n",
       "    .dataframe thead th {\n",
       "        text-align: right;\n",
       "    }\n",
       "</style>\n",
       "<table border=\"1\" class=\"dataframe\">\n",
       "  <thead>\n",
       "    <tr style=\"text-align: right;\">\n",
       "      <th></th>\n",
       "      <th>title</th>\n",
       "      <th>authors</th>\n",
       "      <th>arxiv_id</th>\n",
       "    </tr>\n",
       "  </thead>\n",
       "  <tbody>\n",
       "    <tr>\n",
       "      <th>0</th>\n",
       "      <td>Blind Super-Resolution Kernel Estimation using...</td>\n",
       "      <td>Sefi Bell-Kligler;Assaf Shocher;Michal Irani</td>\n",
       "      <td>NaN</td>\n",
       "    </tr>\n",
       "    <tr>\n",
       "      <th>1</th>\n",
       "      <td>Guided Similarity Separation for Image Retrieval</td>\n",
       "      <td>Chundi Liu;Guangwei Yu;Maksims Volkovs;Cheng C...</td>\n",
       "      <td>NaN</td>\n",
       "    </tr>\n",
       "    <tr>\n",
       "      <th>2</th>\n",
       "      <td>Average Individual Fairness: Algorithms, Gener...</td>\n",
       "      <td>Saeed Sharifi-Malvajerdi;Michael Kearns;Aaron ...</td>\n",
       "      <td>http://arxiv.org/abs/1905.10607v1</td>\n",
       "    </tr>\n",
       "    <tr>\n",
       "      <th>3</th>\n",
       "      <td>Greedy InfoMax for Biologically Plausible Self...</td>\n",
       "      <td>Sindy Löwe;Peter O'Connor;Bastiaan Veeling</td>\n",
       "      <td>NaN</td>\n",
       "    </tr>\n",
       "    <tr>\n",
       "      <th>4</th>\n",
       "      <td>Dynamics of stochastic gradient descent for tw...</td>\n",
       "      <td>Sebastian Goldt;Madhu Advani;Andrew Saxe;Flore...</td>\n",
       "      <td>NaN</td>\n",
       "    </tr>\n",
       "    <tr>\n",
       "      <th>5</th>\n",
       "      <td>Parameter elimination in particle Gibbs sampling</td>\n",
       "      <td>Anna Wigren;Riccardo Sven Risuleo;Lawrence Mur...</td>\n",
       "      <td>NaN</td>\n",
       "    </tr>\n",
       "    <tr>\n",
       "      <th>6</th>\n",
       "      <td>Nonparametric Density Estimation &amp; Convergence...</td>\n",
       "      <td>Ananya Uppal;Shashank Singh;Barnabas Poczos</td>\n",
       "      <td>NaN</td>\n",
       "    </tr>\n",
       "    <tr>\n",
       "      <th>7</th>\n",
       "      <td>On Robustness of Principal Component Regression</td>\n",
       "      <td>Anish Agarwal;Devavrat Shah;Dennis Shen;Dogyoo...</td>\n",
       "      <td>NaN</td>\n",
       "    </tr>\n",
       "    <tr>\n",
       "      <th>8</th>\n",
       "      <td>Scalable Bayesian inference of dendritic volta...</td>\n",
       "      <td>Ruoxi Sun; Ian  Kinsella;Scott Linderman;Liam ...</td>\n",
       "      <td>NaN</td>\n",
       "    </tr>\n",
       "    <tr>\n",
       "      <th>9</th>\n",
       "      <td>Optimizing Generalized Rate Metrics through Th...</td>\n",
       "      <td>Harikrishna Narasimhan;Andrew Cotter;Maya Gupta</td>\n",
       "      <td>NaN</td>\n",
       "    </tr>\n",
       "  </tbody>\n",
       "</table>\n",
       "</div>"
      ],
      "text/plain": [
       "                                               title  \\\n",
       "0  Blind Super-Resolution Kernel Estimation using...   \n",
       "1   Guided Similarity Separation for Image Retrieval   \n",
       "2  Average Individual Fairness: Algorithms, Gener...   \n",
       "3  Greedy InfoMax for Biologically Plausible Self...   \n",
       "4  Dynamics of stochastic gradient descent for tw...   \n",
       "5   Parameter elimination in particle Gibbs sampling   \n",
       "6  Nonparametric Density Estimation & Convergence...   \n",
       "7    On Robustness of Principal Component Regression   \n",
       "8  Scalable Bayesian inference of dendritic volta...   \n",
       "9  Optimizing Generalized Rate Metrics through Th...   \n",
       "\n",
       "                                             authors  \\\n",
       "0       Sefi Bell-Kligler;Assaf Shocher;Michal Irani   \n",
       "1  Chundi Liu;Guangwei Yu;Maksims Volkovs;Cheng C...   \n",
       "2  Saeed Sharifi-Malvajerdi;Michael Kearns;Aaron ...   \n",
       "3         Sindy Löwe;Peter O'Connor;Bastiaan Veeling   \n",
       "4  Sebastian Goldt;Madhu Advani;Andrew Saxe;Flore...   \n",
       "5  Anna Wigren;Riccardo Sven Risuleo;Lawrence Mur...   \n",
       "6        Ananya Uppal;Shashank Singh;Barnabas Poczos   \n",
       "7  Anish Agarwal;Devavrat Shah;Dennis Shen;Dogyoo...   \n",
       "8  Ruoxi Sun; Ian  Kinsella;Scott Linderman;Liam ...   \n",
       "9    Harikrishna Narasimhan;Andrew Cotter;Maya Gupta   \n",
       "\n",
       "                            arxiv_id  \n",
       "0                                NaN  \n",
       "1                                NaN  \n",
       "2  http://arxiv.org/abs/1905.10607v1  \n",
       "3                                NaN  \n",
       "4                                NaN  \n",
       "5                                NaN  \n",
       "6                                NaN  \n",
       "7                                NaN  \n",
       "8                                NaN  \n",
       "9                                NaN  "
      ]
     },
     "execution_count": 3,
     "metadata": {},
     "output_type": "execute_result"
    }
   ],
   "source": [
    "df[:10] # not every accepted papers in NIPS 2019 available on arxiv today"
   ]
  },
  {
   "cell_type": "code",
   "execution_count": 4,
   "metadata": {},
   "outputs": [
    {
     "name": "stdout",
     "output_type": "stream",
     "text": [
      "Only 16.57 % of NIPS 2019 papers available on arxiv by 2019-09-18 07:40:17.329050\n"
     ]
    }
   ],
   "source": [
    "print(\"Only {:.2f} % of NIPS 2019 papers available on arxiv by {}\".format(len(df.dropna())/len(df)*100, datetime.now()))"
   ]
  },
  {
   "cell_type": "code",
   "execution_count": 5,
   "metadata": {},
   "outputs": [],
   "source": [
    "def retrieve_arxiv(title, authors, k=5):\n",
    "    query = \"title:{} au:{}\".format(title, authors[0].lower().replace(\" \", \"_\"))\n",
    "    results = arxiv.query(query, max_results=k)\n",
    "    found = False\n",
    "    record = None\n",
    "    for result in results:\n",
    "        if title.strip().lower() == result[\"title\"].strip().lower():\n",
    "            if set(authors) == set(result[\"authors\"]):\n",
    "                found = True\n",
    "                record = result\n",
    "                break\n",
    "    return record, found, results"
   ]
  },
  {
   "cell_type": "code",
   "execution_count": null,
   "metadata": {},
   "outputs": [
    {
     "name": "stderr",
     "output_type": "stream",
     "text": [
      " 97%|████████████████████████████████████████████████▌ | 1388/1430 [29:35<00:53,  1.28s/it]"
     ]
    }
   ],
   "source": [
    "for i in tqdm(range(len(df))):\n",
    "    if not isinstance(df.loc[i][\"arxiv_id\"], str):\n",
    "        title = df.loc[i][\"title\"]\n",
    "        authors = df.loc[i][\"authors\"].split(\";\")\n",
    "        record, results, found = retrieve_arxiv(title, authors)\n",
    "        if record is not None and found:\n",
    "            df.loc[i][\"arxiv_id\"] = record[\"id\"]"
   ]
  },
  {
   "cell_type": "code",
   "execution_count": null,
   "metadata": {},
   "outputs": [],
   "source": [
    "df.to_csv(\"nips2019.csv\", index=False) # a little bit increased\n",
    "print(\"Only {:.2f} % of NIPS 2019 papers available on arxiv by {}\".format(len(df.dropna())/len(df)*100, datetime.now()))"
   ]
  },
  {
   "cell_type": "code",
   "execution_count": null,
   "metadata": {},
   "outputs": [],
   "source": [
    "df.dropna()[:10]"
   ]
  },
  {
   "cell_type": "code",
   "execution_count": null,
   "metadata": {},
   "outputs": [],
   "source": []
  }
 ],
 "metadata": {
  "kernelspec": {
   "display_name": "Python 3",
   "language": "python",
   "name": "python3"
  },
  "language_info": {
   "codemirror_mode": {
    "name": "ipython",
    "version": 3
   },
   "file_extension": ".py",
   "mimetype": "text/x-python",
   "name": "python",
   "nbconvert_exporter": "python",
   "pygments_lexer": "ipython3",
   "version": "3.7.4"
  }
 },
 "nbformat": 4,
 "nbformat_minor": 4
}
